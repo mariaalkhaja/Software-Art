{
  "nbformat": 4,
  "nbformat_minor": 0,
  "metadata": {
    "colab": {
      "name": "Assignment2 Code.ipynb",
      "provenance": [],
      "authorship_tag": "ABX9TyPEWkBGohxMV9RVO6TUxr5l",
      "include_colab_link": true
    },
    "kernelspec": {
      "name": "python3",
      "display_name": "Python 3"
    }
  },
  "cells": [
    {
      "cell_type": "markdown",
      "metadata": {
        "id": "view-in-github",
        "colab_type": "text"
      },
      "source": [
        "<a href=\"https://colab.research.google.com/github/mariaalkhaja/Software-Art/blob/main/Assignment%202/GPT-2.ipynb\" target=\"_parent\"><img src=\"https://colab.research.google.com/assets/colab-badge.svg\" alt=\"Open In Colab\"/></a>"
      ]
    },
    {
      "cell_type": "code",
      "metadata": {
        "id": "OrxVezRT_PCO"
      },
      "source": [
        "! pip install transformers torch        # install transformers for text generation"
      ],
      "execution_count": null,
      "outputs": []
    },
    {
      "cell_type": "code",
      "metadata": {
        "id": "hPgWT9q2ROA8"
      },
      "source": [
        "! pip install gTTS pyttsx3 playsound   # install gTTS for text-to-speech conversion"
      ],
      "execution_count": null,
      "outputs": []
    },
    {
      "cell_type": "code",
      "metadata": {
        "colab": {
          "base_uri": "https://localhost:8080/",
          "height": 17
        },
        "id": "Rd-odK7a_2d3",
        "outputId": "5676cd29-7112-44b4-de3c-b6f1eb8ffe81"
      },
      "source": [
        "# import fine-tuned GPT2 on genre-based story generation (taken from pranavpsv)\r\n",
        "\r\n",
        "from transformers import pipeline\r\n",
        "story_generator = pipeline(\"text-generation\", \r\n",
        "                           \"pranavpsv/gpt2-genre-story-generator\")  "
      ],
      "execution_count": null,
      "outputs": [
        {
          "output_type": "display_data",
          "data": {
            "text/html": [
              "\n",
              "  <style>\n",
              "    pre {\n",
              "        white-space: pre-wrap;\n",
              "    }\n",
              "  </style>\n",
              "  "
            ],
            "text/plain": [
              "<IPython.core.display.HTML object>"
            ]
          },
          "metadata": {
            "tags": []
          }
        }
      ]
    },
    {
      "cell_type": "code",
      "metadata": {
        "id": "quQTqqxFTcAM",
        "colab": {
          "base_uri": "https://localhost:8080/",
          "height": 17
        },
        "outputId": "3b139f21-0b10-41ad-ebbc-da0f1a3ce598"
      },
      "source": [
        "import random  \r\n",
        "import gtts\r\n",
        "from playsound import playsound"
      ],
      "execution_count": null,
      "outputs": [
        {
          "output_type": "display_data",
          "data": {
            "text/html": [
              "\n",
              "  <style>\n",
              "    pre {\n",
              "        white-space: pre-wrap;\n",
              "    }\n",
              "  </style>\n",
              "  "
            ],
            "text/plain": [
              "<IPython.core.display.HTML object>"
            ]
          },
          "metadata": {
            "tags": []
          }
        }
      ]
    },
    {
      "cell_type": "code",
      "metadata": {
        "id": "8elMFx8bFO1Y",
        "colab": {
          "base_uri": "https://localhost:8080/",
          "height": 17
        },
        "outputId": "73137980-662c-44cb-f3f1-c96b2ebc3183"
      },
      "source": [
        "# This cell is to style the Google Colab printed output properly (taken from pranavpsv)\r\n",
        "from IPython.display import HTML, display\r\n",
        "\r\n",
        "def set_css():\r\n",
        "  display(HTML('''\r\n",
        "  <style>\r\n",
        "    pre {\r\n",
        "        white-space: pre-wrap;\r\n",
        "    }\r\n",
        "  </style>\r\n",
        "  '''))\r\n",
        "get_ipython().events.register('pre_run_cell', set_css)\r\n"
      ],
      "execution_count": null,
      "outputs": [
        {
          "output_type": "display_data",
          "data": {
            "text/html": [
              "\n",
              "  <style>\n",
              "    pre {\n",
              "        white-space: pre-wrap;\n",
              "    }\n",
              "  </style>\n",
              "  "
            ],
            "text/plain": [
              "<IPython.core.display.HTML object>"
            ]
          },
          "metadata": {
            "tags": []
          }
        }
      ]
    },
    {
      "cell_type": "code",
      "metadata": {
        "colab": {
          "base_uri": "https://localhost:8080/",
          "height": 17
        },
        "id": "rLpD0ExQTdpX",
        "cellView": "form",
        "outputId": "b8c0888f-2028-46ce-afb3-da034a014439"
      },
      "source": [
        "character_name = 'Willy ' #@param {type:\"string\"}\r\n"
      ],
      "execution_count": null,
      "outputs": [
        {
          "output_type": "display_data",
          "data": {
            "text/html": [
              "\n",
              "  <style>\n",
              "    pre {\n",
              "        white-space: pre-wrap;\n",
              "    }\n",
              "  </style>\n",
              "  "
            ],
            "text/plain": [
              "<IPython.core.display.HTML object>"
            ]
          },
          "metadata": {
            "tags": []
          }
        },
        {
          "output_type": "display_data",
          "data": {
            "text/html": [
              "\n",
              "  <style>\n",
              "    pre {\n",
              "        white-space: pre-wrap;\n",
              "    }\n",
              "  </style>\n",
              "  "
            ],
            "text/plain": [
              "<IPython.core.display.HTML object>"
            ]
          },
          "metadata": {
            "tags": []
          }
        }
      ]
    },
    {
      "cell_type": "code",
      "metadata": {
        "colab": {
          "base_uri": "https://localhost:8080/",
          "height": 17
        },
        "cellView": "form",
        "id": "2Og1kSYqmFLy",
        "outputId": "5d9c8f86-8588-40c1-8140-25baf1a85b58"
      },
      "source": [
        "genre = 'superhero' #@param  [\"superhero\", \"sci_fi\", \"horror\", \"action\", \"thriller\", \"drama\"]\r\n"
      ],
      "execution_count": null,
      "outputs": [
        {
          "output_type": "display_data",
          "data": {
            "text/html": [
              "\n",
              "  <style>\n",
              "    pre {\n",
              "        white-space: pre-wrap;\n",
              "    }\n",
              "  </style>\n",
              "  "
            ],
            "text/plain": [
              "<IPython.core.display.HTML object>"
            ]
          },
          "metadata": {
            "tags": []
          }
        },
        {
          "output_type": "display_data",
          "data": {
            "text/html": [
              "\n",
              "  <style>\n",
              "    pre {\n",
              "        white-space: pre-wrap;\n",
              "    }\n",
              "  </style>\n",
              "  "
            ],
            "text/plain": [
              "<IPython.core.display.HTML object>"
            ]
          },
          "metadata": {
            "tags": []
          }
        }
      ]
    },
    {
      "cell_type": "code",
      "metadata": {
        "id": "p0ju5ilLefaD",
        "colab": {
          "base_uri": "https://localhost:8080/",
          "height": 17
        },
        "outputId": "03e8142b-3284-443d-d556-3b0b5e7c182d"
      },
      "source": [
        "# Introductions to be randomly chosen \r\n",
        "intro = [ \"Whether I shall turn out to be the hero of my own life, or whether that station will be held by anybody else, it will be determined tonight. \",\r\n",
        "\r\n",
        "\"I told you last night that I might be gone sometime because I’m old and weak, and you said that was not true. I tried to lift the van last night \\\r\n",
        "with my pinkey and I failed. I lost all my strength. \",\r\n",
        "\r\n",
        "\"Once there was a– wait no. It doesn’t seem right. Okay. Once upon a tim— no it isn’t this either. Okay, time. Well how do you open up a story? \" ]\r\n",
        "\r\n",
        "# Setting of the story \r\n",
        "place = [\"Gotham City\", \"Hogwarts School of Witchcraft and Wizardry\", \"Xavier's Academy\", \"Willy Wonka's Factory\", \" Jurassic Park\",\r\n",
        "         \"Dragon Stone\", \"Springfield\"]\r\n",
        "\r\n",
        "# Introduction of character\r\n",
        "character = \"I am \" + character_name + \" of \" + random.choice(place) + \" and my time has come. \\n\"\r\n",
        "\r\n",
        "# Puts together an introductory paragraph \r\n",
        "p1 = \"<BOS> <\" + genre + \"> \" +random.choice(intro)+character\r\n"
      ],
      "execution_count": null,
      "outputs": [
        {
          "output_type": "display_data",
          "data": {
            "text/html": [
              "\n",
              "  <style>\n",
              "    pre {\n",
              "        white-space: pre-wrap;\n",
              "    }\n",
              "  </style>\n",
              "  "
            ],
            "text/plain": [
              "<IPython.core.display.HTML object>"
            ]
          },
          "metadata": {
            "tags": []
          }
        },
        {
          "output_type": "display_data",
          "data": {
            "text/html": [
              "\n",
              "  <style>\n",
              "    pre {\n",
              "        white-space: pre-wrap;\n",
              "    }\n",
              "  </style>\n",
              "  "
            ],
            "text/plain": [
              "<IPython.core.display.HTML object>"
            ]
          },
          "metadata": {
            "tags": []
          }
        }
      ]
    },
    {
      "cell_type": "code",
      "metadata": {
        "colab": {
          "base_uri": "https://localhost:8080/",
          "height": 34
        },
        "id": "9B1kRuCaD24p",
        "outputId": "37c79c70-e844-464c-bbbf-c98133c6d1f3"
      },
      "source": [
        "# generate short story with gpt2 using our introductory paragraph as the prompt\r\n",
        "story = story_generator(p1, max_length = 300)  "
      ],
      "execution_count": null,
      "outputs": [
        {
          "output_type": "display_data",
          "data": {
            "text/html": [
              "\n",
              "  <style>\n",
              "    pre {\n",
              "        white-space: pre-wrap;\n",
              "    }\n",
              "  </style>\n",
              "  "
            ],
            "text/plain": [
              "<IPython.core.display.HTML object>"
            ]
          },
          "metadata": {
            "tags": []
          }
        },
        {
          "output_type": "display_data",
          "data": {
            "text/html": [
              "\n",
              "  <style>\n",
              "    pre {\n",
              "        white-space: pre-wrap;\n",
              "    }\n",
              "  </style>\n",
              "  "
            ],
            "text/plain": [
              "<IPython.core.display.HTML object>"
            ]
          },
          "metadata": {
            "tags": []
          }
        },
        {
          "output_type": "stream",
          "text": [
            "Setting `pad_token_id` to `eos_token_id`:50256 for open-end generation.\n"
          ],
          "name": "stderr"
        }
      ]
    },
    {
      "cell_type": "code",
      "metadata": {
        "colab": {
          "base_uri": "https://localhost:8080/",
          "height": 228
        },
        "id": "Wpt3T9Hp7dt4",
        "outputId": "65052e32-d34c-4a54-e4aa-6b7570d2c9e6"
      },
      "source": [
        "# Print out the short story \r\n",
        "output = story[0][\"generated_text\"].replace(\"<BOS> \", \"\") \r\n",
        "print(output)"
      ],
      "execution_count": null,
      "outputs": [
        {
          "output_type": "display_data",
          "data": {
            "text/html": [
              "\n",
              "  <style>\n",
              "    pre {\n",
              "        white-space: pre-wrap;\n",
              "    }\n",
              "  </style>\n",
              "  "
            ],
            "text/plain": [
              "<IPython.core.display.HTML object>"
            ]
          },
          "metadata": {
            "tags": []
          }
        },
        {
          "output_type": "display_data",
          "data": {
            "text/html": [
              "\n",
              "  <style>\n",
              "    pre {\n",
              "        white-space: pre-wrap;\n",
              "    }\n",
              "  </style>\n",
              "  "
            ],
            "text/plain": [
              "<IPython.core.display.HTML object>"
            ]
          },
          "metadata": {
            "tags": []
          }
        },
        {
          "output_type": "stream",
          "text": [
            "<superhero> I told you last night that I might be gone sometime because I’m old and weak, and you said that was not true. I tried to lift the van last night with my pinkey and I failed. I lost all my strength. I am Willy of Xavier's Academy and my time has come. \n",
            " I told you last night that I’m going to college and if this helps please stay with the rest of the book. But if not please leave.  I told you last night that I might go into this school and you told that was not true. I tried to lift the van last night with my pinkey and I failed.I lost all my strength. I am at the bottom of the class at the same time as Kevin. It doesn’t matter to me because if I get worse then I could get better too. The biggest problem is for your friend to get into here.  I told you last night that I might be the last to leave Xavier. I think they can’t believe me. The other thing is if it weren’t for you I might not be there in a row. I’m not going with this book. Just look at what I got.  I told you last night that I might be out. I didn’t want to stay anymore for the rest of this book and it doesn’t matter to me because if it doesn’t help Kevin\n"
          ],
          "name": "stdout"
        }
      ]
    },
    {
      "cell_type": "code",
      "metadata": {
        "colab": {
          "base_uri": "https://localhost:8080/",
          "height": 17
        },
        "id": "GN4DNOdQRbHR",
        "outputId": "a2ad5cb5-91ab-4d6e-b7e8-6e159be73ce6"
      },
      "source": [
        "# Convert the story to an mp3 audio file \r\n",
        "\r\n",
        "tts = gtts.gTTS(output) # converts text to speech\r\n",
        "tts.save(\"story.mp3\") # save audio file\r\n"
      ],
      "execution_count": null,
      "outputs": [
        {
          "output_type": "display_data",
          "data": {
            "text/html": [
              "\n",
              "  <style>\n",
              "    pre {\n",
              "        white-space: pre-wrap;\n",
              "    }\n",
              "  </style>\n",
              "  "
            ],
            "text/plain": [
              "<IPython.core.display.HTML object>"
            ]
          },
          "metadata": {
            "tags": []
          }
        },
        {
          "output_type": "display_data",
          "data": {
            "text/html": [
              "\n",
              "  <style>\n",
              "    pre {\n",
              "        white-space: pre-wrap;\n",
              "    }\n",
              "  </style>\n",
              "  "
            ],
            "text/plain": [
              "<IPython.core.display.HTML object>"
            ]
          },
          "metadata": {
            "tags": []
          }
        }
      ]
    }
  ]
}