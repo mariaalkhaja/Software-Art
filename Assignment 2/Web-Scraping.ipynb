{
  "nbformat": 4,
  "nbformat_minor": 0,
  "metadata": {
    "colab": {
      "name": "Asg1 - Coding.ipynb",
      "provenance": [],
      "collapsed_sections": [],
      "include_colab_link": true
    },
    "kernelspec": {
      "name": "python3",
      "display_name": "Python 3"
    }
  },
  "cells": [
    {
      "cell_type": "markdown",
      "metadata": {
        "id": "view-in-github",
        "colab_type": "text"
      },
      "source": [
        "<a href=\"https://colab.research.google.com/github/mariaalkhaja/Software-Art/blob/main/Assignment%202/Web-Scraping.ipynb\" target=\"_parent\"><img src=\"https://colab.research.google.com/assets/colab-badge.svg\" alt=\"Open In Colab\"/></a>"
      ]
    },
    {
      "cell_type": "code",
      "metadata": {
        "id": "pQPbvqXxBf3o"
      },
      "source": [
        "import requests\n",
        "from bs4 import BeautifulSoup\n",
        "import string\n",
        "import random"
      ],
      "execution_count": null,
      "outputs": []
    },
    {
      "cell_type": "code",
      "metadata": {
        "id": "E65AnIZ6BjEn"
      },
      "source": [
        "# Get the links to different song lyrincs\n",
        "target_url=['https://www.metrolyrics.com/my-heart-will-go-on-titanic-lyrics-celine-dion.html',\n",
        "            'https://www.metrolyrics.com/close-to-you-lyrics-the-carpenters.html',\n",
        "            'https://www.metrolyrics.com/tomorrow-lyrics-annie.html',\n",
        "            'https://www.metrolyrics.com/broken-angel-lyrics-arash.html',\n",
        "            'https://www.metrolyrics.com/shape-of-you-lyrics-ed-sheeran.html',\n",
        "            'https://www.metrolyrics.com/gotta-go-my-own-way-lyrics-vanessa-hudgens.html',\n",
        "            'https://www.metrolyrics.com/mercy-lyrics-brett-young.html',\n",
        "            'https://www.metrolyrics.com/tomorrow-lyrics-annie.html'\n",
        "            'https://www.metrolyrics.com/the-day-you-said-goodnight-lyrics-hale.html',\n",
        "            'https://www.metrolyrics.com/a-thousand-years-lyrics-christina-perri.html',\n",
        "            'https://www.metrolyrics.com/come-go-with-me-lyrics-del-vikings.html',\n",
        "            'https://www.metrolyrics.com/time-to-pretend-lyrics-mgmt.html',\n",
        "            'https://www.metrolyrics.com/love-me-tender-lyrics-elvis-presley.html',\n",
        "            'https://www.metrolyrics.com/surrender-lyrics-cheap-trick.html',\n",
        "            'https://www.metrolyrics.com/come-go-with-me-lyrics-del-vikings.html',\n",
        "            'https://www.metrolyrics.com/just-like-heaven-lyrics-the-cure.html',\n",
        "            'https://www.metrolyrics.com/cry-me-a-river-lyrics-justin-timberlake.html',\n",
        "            'https://www.metrolyrics.com/since-you-been-gone-lyrics-kelly-clarkson.html',\n",
        "            'https://www.metrolyrics.com/i-want-to-know-what-love-is-lyrics-foreigner.html',\n",
        "            'https://www.metrolyrics.com/boys-of-the-summer-lyrics-don-henley.html',\n",
        "            'https://www.metrolyrics.com/dance-monkey-lyrics-tones-and-i.html'\n",
        "            ]"
      ],
      "execution_count": null,
      "outputs": []
    },
    {
      "cell_type": "code",
      "metadata": {
        "id": "0BPvXN9DBm1P"
      },
      "source": [
        "# Web scraping lyrics\n",
        "def lyrics():\n",
        "  poem_elements = \"\"\n",
        "  req = []\n",
        "  for x in target_url:\n",
        "    req.append(requests.get(x))\n",
        "\n",
        "  # Let's parse the HTMLs into a beautiful soup\n",
        "  soup = []\n",
        "  for x in req:\n",
        "    soup.append(BeautifulSoup(x.content, 'html.parser'))\n",
        "\n",
        "  for x in soup:  \n",
        "   t = x.find_all('p', class_='verse')\n",
        "\n",
        "   for i in range(len(t)):\n",
        "     poem_elements += str(t[i].text)\n",
        "  \n",
        "  poem_elements +='\\n'\n",
        "  poem = poem_elements.split('\\n')\n",
        "\n",
        "  return poem"
      ],
      "execution_count": null,
      "outputs": []
    },
    {
      "cell_type": "code",
      "metadata": {
        "id": "fiQS2fO2Pyaj"
      },
      "source": [
        "# Web scraping quotes \r\n",
        "def quote(): \r\n",
        "  tag = ['abilities', 'love', 'change', 'failure', 'friendship', 'life', 'truth', 'inspirational']\r\n",
        "  target_url = 'https://quotes.toscrape.com/tag/'+ random.choice(tag)\r\n",
        "\r\n",
        "  req = requests.get(target_url)\r\n",
        "  soup = BeautifulSoup(req.content, 'html.parser') \r\n",
        "\r\n",
        "  quotes = soup.find_all('div', class_='quote')\r\n",
        "\r\n",
        "  scraped = []\r\n",
        "  for quote in quotes:\r\n",
        "    text = quote.find('span', class_='text').text\r\n",
        "    author = quote.find('small', class_='author').text\r\n",
        "    scraped.append([text, author])\r\n",
        "\r\n",
        "  # Print a randomly selected quote\r\n",
        "  i = random.choice(scraped)\r\n",
        "  print (i[1], \"once said: \", i[0])"
      ],
      "execution_count": null,
      "outputs": []
    },
    {
      "cell_type": "code",
      "metadata": {
        "id": "IQT1v5N2lTWv"
      },
      "source": [
        "# Print a song using random verses\n",
        "def singing():\n",
        "  song = lyrics()\n",
        "  for i in range (5):\n",
        "    print (random.choice(song))\n",
        "  print()\n",
        "  for i in range (4):\n",
        "    print (random.choice(song))\n",
        "  print()\n",
        "  for i in range (6):\n",
        "    print (random.choice(song))"
      ],
      "execution_count": null,
      "outputs": []
    },
    {
      "cell_type": "code",
      "metadata": {
        "id": "KfSyOgySkLIO"
      },
      "source": [
        "# Print a short poem using random verses\r\n",
        "def reciting():\r\n",
        "  poem = lyrics()\r\n",
        "  for i in range (4):\r\n",
        "    print(random.choice(poem))"
      ],
      "execution_count": null,
      "outputs": []
    },
    {
      "cell_type": "code",
      "metadata": {
        "id": "Yg7bokbZ8FRP"
      },
      "source": [
        "print(\"Welcome, this is the old, legendary poet    \\n\\\r\n",
        "       I could sing you a phenominal song\")\r\n",
        "print(\"Recite a poem you'll never forget      \\n\\\r\n",
        "       Or echo to you some words of wisdom\")\r\n",
        "print(\"Whatever I say might make sense        \\n\\\r\n",
        "       Or might not, right now\")\r\n",
        "print(\"Regardless, keep my words on your mind \\n\\\r\n",
        "       Every word of the mighty poet\")\r\n",
        "print(\"Comes from the depth of the universe   \\n\\\r\n",
        "       From the essence of your soul\")\r\n",
        "print(\"Now make your choice: A song, a peom, or a wise words?\")\r\n"
      ],
      "execution_count": null,
      "outputs": []
    },
    {
      "cell_type": "code",
      "metadata": {
        "colab": {
          "base_uri": "https://localhost:8080/"
        },
        "cellView": "form",
        "id": "1_cvzE7Kpzlv",
        "outputId": "3927cd79-9e3c-4635-abe9-83fd6ab7defd"
      },
      "source": [
        "choice = 'poem' #@param [\"song\", \"poem\", \"wise words\"]\r\n",
        "\r\n",
        "if choice == 'song':\r\n",
        "  singing()\r\n",
        "elif choice == 'poem':\r\n",
        "  reciting()\r\n",
        "elif choice == 'wise words':\r\n",
        "  quote()"
      ],
      "execution_count": null,
      "outputs": [
        {
          "output_type": "stream",
          "text": [
            "Darling this I know\n",
            "Well, say, you never,\n",
            "They just seem a little weird\n",
            "Take it\n"
          ],
          "name": "stdout"
        }
      ]
    }
  ]
}