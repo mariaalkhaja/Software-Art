{
  "nbformat": 4,
  "nbformat_minor": 0,
  "metadata": {
    "colab": {
      "name": "Assignment 3.ipynb",
      "provenance": [],
      "authorship_tag": "ABX9TyOvIEoe5DXOhvmvPrB3cENh",
      "include_colab_link": true
    },
    "kernelspec": {
      "name": "python3",
      "display_name": "Python 3"
    }
  },
  "cells": [
    {
      "cell_type": "markdown",
      "metadata": {
        "id": "view-in-github",
        "colab_type": "text"
      },
      "source": [
        "<a href=\"https://colab.research.google.com/github/mariaalkhaja/Software-Art/blob/main/Assignment_3.ipynb\" target=\"_parent\"><img src=\"https://colab.research.google.com/assets/colab-badge.svg\" alt=\"Open In Colab\"/></a>"
      ]
    },
    {
      "cell_type": "code",
      "metadata": {
        "id": "hPgWT9q2ROA8",
        "colab": {
          "base_uri": "https://localhost:8080/"
        },
        "outputId": "00e7f0b4-c4f9-4792-d1ac-42597b3d2d44"
      },
      "source": [
        "! pip install gTTS pyttsx3 playsound   # install gTTS for text-to-speech conversion"
      ],
      "execution_count": 1,
      "outputs": [
        {
          "output_type": "stream",
          "text": [
            "Collecting gTTS\n",
            "  Downloading https://files.pythonhosted.org/packages/5f/b9/94e59337107be134b21ce395a29fc0715b707b560108d6797de2d93e1178/gTTS-2.2.2-py3-none-any.whl\n",
            "Collecting pyttsx3\n",
            "  Downloading https://files.pythonhosted.org/packages/33/9a/de4781245f5ad966646fd276259ef7cfd400ba3cf7d5db7c0d5aab310c20/pyttsx3-2.90-py3-none-any.whl\n",
            "Collecting playsound\n",
            "  Downloading https://files.pythonhosted.org/packages/f5/16/10d897b0a83fb4b05b03a63d7a2667ab75f857f67f7062fd447dd3f49bf7/playsound-1.2.2-py2.py3-none-any.whl\n",
            "Requirement already satisfied: requests in /usr/local/lib/python3.7/dist-packages (from gTTS) (2.23.0)\n",
            "Requirement already satisfied: click in /usr/local/lib/python3.7/dist-packages (from gTTS) (7.1.2)\n",
            "Requirement already satisfied: six in /usr/local/lib/python3.7/dist-packages (from gTTS) (1.15.0)\n",
            "Requirement already satisfied: idna<3,>=2.5 in /usr/local/lib/python3.7/dist-packages (from requests->gTTS) (2.10)\n",
            "Requirement already satisfied: urllib3!=1.25.0,!=1.25.1,<1.26,>=1.21.1 in /usr/local/lib/python3.7/dist-packages (from requests->gTTS) (1.24.3)\n",
            "Requirement already satisfied: chardet<4,>=3.0.2 in /usr/local/lib/python3.7/dist-packages (from requests->gTTS) (3.0.4)\n",
            "Requirement already satisfied: certifi>=2017.4.17 in /usr/local/lib/python3.7/dist-packages (from requests->gTTS) (2020.12.5)\n",
            "Installing collected packages: gTTS, pyttsx3, playsound\n",
            "Successfully installed gTTS-2.2.2 playsound-1.2.2 pyttsx3-2.90\n"
          ],
          "name": "stdout"
        }
      ]
    },
    {
      "cell_type": "code",
      "metadata": {
        "id": "quQTqqxFTcAM"
      },
      "source": [
        "import gtts"
      ],
      "execution_count": 2,
      "outputs": []
    },
    {
      "cell_type": "code",
      "metadata": {
        "id": "GN4DNOdQRbHR"
      },
      "source": [
        "# Convert the instructions to an mp3 audio file \r\n",
        "inst = \"With the start of the panademic, many have gone missing. \\\r\n",
        "The perpetrator would get in touch with a random person from the victim's contacts, \\\r\n",
        "and that person becomes their only possible saviour. The victim can only send one word \\\r\n",
        "descriptions to their saviour. The saviour has only one guess, and have under a minute to \\\r\n",
        "make it. If they guess wrong, the victim is killed immediately... Do you know your \\\r\n",
        "loved one's enough to save them? \" \r\n",
        "tts = gtts.gTTS(inst) # converts text to speech\r\n",
        "tts.save(\"intro.mp3\") # save audio file\r\n"
      ],
      "execution_count": 8,
      "outputs": []
    }
  ]
}